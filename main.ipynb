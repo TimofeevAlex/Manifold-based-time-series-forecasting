{
 "cells": [
  {
   "cell_type": "code",
   "execution_count": 46,
   "metadata": {
    "collapsed": false,
    "jupyter": {
     "outputs_hidden": false
    }
   },
   "outputs": [
    {
     "name": "stdout",
     "output_type": "stream",
     "text": [
      "The autoreload extension is already loaded. To reload it, use:\n",
      "  %reload_ext autoreload\n"
     ]
    }
   ],
   "source": [
    "import sys\n",
    "import numpy as np\n",
    "import pandas as pd\n",
    "from statsmodels.tsa.arima_model import ARIMA\n",
    "\n",
    "sys.path.append('./sources')\n",
    "from models import predict_knn, predict_LDMM, predict_SAME\n",
    "%load_ext autoreload\n",
    "%autoreload 2\n",
    "# from ldmm import LDMM\n",
    "# from same import SAME"
   ]
  },
  {
   "cell_type": "markdown",
   "metadata": {},
   "source": [
    "### Loading data"
   ]
  },
  {
   "cell_type": "code",
   "execution_count": 47,
   "metadata": {},
   "outputs": [],
   "source": [
    "data = pd.read_csv('data/data.csv')"
   ]
  },
  {
   "cell_type": "code",
   "execution_count": 48,
   "metadata": {},
   "outputs": [],
   "source": [
    "data = data.to_numpy()[:,1:].astype(np.float)"
   ]
  },
  {
   "cell_type": "code",
   "execution_count": 49,
   "metadata": {},
   "outputs": [],
   "source": [
    "#Excluding seasonability \n",
    "timestamps = np.arange(data.shape[0])\n",
    "mask = np.tile(np.append(np.ones(1), np.append(np.zeros(10), np.ones(1))), 20)[:-2]\n",
    "timestamps = timestamps[mask==0]\n",
    "data = data[mask==0]"
   ]
  },
  {
   "cell_type": "markdown",
   "metadata": {},
   "source": [
    "### Setting parameters"
   ]
  },
  {
   "cell_type": "code",
   "execution_count": 50,
   "metadata": {},
   "outputs": [],
   "source": [
    "num_series = data.shape[1]\n",
    "# Number of test months\n",
    "n_test = 40\n",
    "# LDMM parameters\n",
    "bandwidth_ldmm, lambd, mu, h, n_iter_ldmm = 11, 7.0, 1500.0, 0.001, 7\n",
    "nn_ldmm = [60, 10, 7, 7]\n",
    "# SAME parameters\n",
    "bandwidth_same, tau, n_iter_same = 3, 1.0, 21\n",
    "nn_same = [9, 21, 21, 15]\n",
    "# kNN parameters\n",
    "bandwidth_knn = 12\n",
    "nn_knn = [5, 30, 30, 30]"
   ]
  },
  {
   "cell_type": "code",
   "execution_count": 55,
   "metadata": {},
   "outputs": [
    {
     "name": "stdout",
     "output_type": "stream",
     "text": [
      "1\n",
      "knn [0.00165557 0.00396715 0.00239861 0.00177703]\n",
      "ldmm [0.00155454 0.00241133 0.00152581 0.00142244]\n",
      "same [0.00116738 0.0018553  0.00151837 0.0016329 ]\n",
      "arima [0.00837624 0.00213298 0.00145582 0.00158337]\n",
      "\n",
      "2\n",
      "knn [0.00176472 0.00434126 0.00303796 0.00427745]\n",
      "ldmm [0.0014592 0.0028675 0.00198019 0.0042891]\n",
      "same [0.001458 0.00245318 0.00209719 0.00394271]\n",
      "arima [0.00176388 0.00249325 0.00194276 0.00375188]\n",
      "\n",
      "3\n",
      "knn [0.0030487  0.00709648 0.0042467  0.00584049]\n",
      "ldmm [0.00281025 0.00402681 0.00293258 0.00486037]\n",
      "same [0.00189623 0.00334985 0.00278699 0.00510701]\n",
      "arima [0.00183599 0.0031047  0.00202661 0.00488685]\n",
      "\n",
      "4\n",
      "knn [0.00314675 0.00723589 0.00450714 0.0060282 ]\n",
      "ldmm [0.00304857 0.00387206 0.00345893 0.00501547]\n",
      "same [0.0020379  0.00360712 0.00364615 0.00557899]\n",
      "arima [0.00199373 0.00331188 0.00212744 0.00518051]\n",
      "\n"
     ]
    }
   ],
   "source": [
    "losses = []\n",
    "for lookfront in [1,2,3,4]:\n",
    "    predictions_knn   = np.empty((n_test, lookfront, num_series))\n",
    "    predictions_ldmm  = np.empty((n_test, lookfront, num_series))\n",
    "    predictions_same  = np.empty((n_test, lookfront, num_series))\n",
    "    predictions_arima = np.empty((n_test, lookfront, num_series))\n",
    "\n",
    "    outcomes = np.empty((n_test, lookfront, num_series))\n",
    "    for i in range(n_test):\n",
    "\n",
    "        Y_train_knn   = data[:-n_test+i+1-lookfront, :]\n",
    "        Y_train_ldmm  = data[:-n_test+i+1-lookfront, :]\n",
    "        Y_train_same  = data[:-n_test+i+1-lookfront, :]\n",
    "        Y_train_arima = data[:-n_test+i+1-lookfront, :]\n",
    "\n",
    "        for k in range(lookfront):\n",
    "            timestamps_train = timestamps[:-n_test+i+1-lookfront+k]\n",
    "            timestamp_test = timestamps[-n_test+i+1-lookfront+k]\n",
    "            Y_test = data[-n_test+i+1-lookfront+k, :]\n",
    "\n",
    "            predictions_knn[i, k, :] = predict_knn(timestamps_train, Y_train_ldmm, timestamp_test,\\\n",
    "                                                   bandwidth_knn, nn_knn)[:]\n",
    "            predictions_ldmm[i, k, :] = predict_LDMM(timestamps_train, Y_train_ldmm, timestamp_test,\\\n",
    "                                                    bandwidth_ldmm, lambd, mu, h, n_iter_ldmm, nn_ldmm)[:]\n",
    "            predictions_same[i, k, :] = predict_SAME(timestamps_train, Y_train_same, timestamp_test,\\\n",
    "                                                    bandwidth_same, tau, n_iter_same, nn_same)[:]\n",
    "            for t in range(num_series):\n",
    "                arima_model = ARIMA(Y_train_arima[:, t], order=(6,1,0))\n",
    "                predictions_arima[i, k, t] = arima_model.fit(disp=0, trend='nc').forecast(steps=1)[0] \n",
    "\n",
    "\n",
    "            outcomes[i, k, :] = Y_test[:]\n",
    "            Y_train_knn = np.append(Y_train_knn, predictions_knn[i, k, :].reshape(1,-1), axis=0)\n",
    "            Y_train_ldmm = np.append(Y_train_ldmm, predictions_ldmm[i, k, :].reshape(1,-1), axis=0)\n",
    "            Y_train_same = np.append(Y_train_same, predictions_same[i, k, :].reshape(1,-1), axis=0)\n",
    "            Y_train_arima = np.append(Y_train_arima, predictions_arima[i, k, :].reshape(1,-1), axis=0)\n",
    "\n",
    "\n",
    "    new_loss_knn = np.mean((predictions_knn[:,-1]-outcomes[:,-1])**2/ outcomes[:,-1]**2, axis=0)\n",
    "    new_loss_ldmm = np.mean((predictions_ldmm[:,-1]-outcomes[:,-1])**2 / outcomes[:,-1]**2, axis=0)\n",
    "    new_loss_same = np.mean((predictions_same[:,-1]-outcomes[:,-1])**2 / outcomes[:,-1]**2, axis=0)\n",
    "    new_loss_arima = np.mean((predictions_arima[:,-1]-outcomes[:,-1])**2 / outcomes[:,-1]**2, axis=0)\n",
    "\n",
    "    print(lookfront)\n",
    "    print('knn', new_loss_knn)\n",
    "    print('ldmm', new_loss_ldmm)\n",
    "    print('same', new_loss_same)\n",
    "    print('arima', new_loss_arima)\n",
    "\n",
    "    print()\n"
   ]
  }
 ],
 "metadata": {
  "kernelspec": {
   "display_name": "Python 3",
   "language": "python",
   "name": "python3"
  },
  "language_info": {
   "codemirror_mode": {
    "name": "ipython",
    "version": 3
   },
   "file_extension": ".py",
   "mimetype": "text/x-python",
   "name": "python",
   "nbconvert_exporter": "python",
   "pygments_lexer": "ipython3",
   "version": "3.8.3"
  }
 },
 "nbformat": 4,
 "nbformat_minor": 4
}
